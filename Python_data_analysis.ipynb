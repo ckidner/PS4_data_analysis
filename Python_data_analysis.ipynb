{
 "cells": [
  {
   "cell_type": "markdown",
   "metadata": {},
   "source": [
    "# Using a Jupyter Notebook for data analysis"
   ]
  },
  {
   "cell_type": "markdown",
   "metadata": {},
   "source": [
    "Why do this?  \n",
    "Can run code, keep notes and generate graphical and statistical analyses all in the one spot.    \n",
    "Backs up nicely on Github and is viewable there.   \n",
    "Can duplicate the notebook to run the same exact analysis on new data.  "
   ]
  },
  {
   "cell_type": "markdown",
   "metadata": {},
   "source": [
    "Can use all the resources of the python/R community.  \n",
    "For example, here we're importing a set of data analysis modules:  "
   ]
  },
  {
   "cell_type": "code",
   "execution_count": null,
   "metadata": {
    "ExecuteTime": {
     "end_time": "2018-09-18T12:15:23.650149Z",
     "start_time": "2018-09-18T12:15:23.637972Z"
    }
   },
   "outputs": [],
   "source": [
    "# Analysis modules\n",
    "import numpy as np\n",
    "import pandas as pd\n",
    "import matplotlib as mpl\n",
    "import matplotlib.pyplot as plt\n",
    "import seaborn as sns\n",
    "import scipy\n",
    "import statsmodels.api as sm\n",
    "np.set_printoptions(precision=5, suppress=True)  # suppress scientific floatation \n",
    "sns.set(color_codes=True)\n",
    "%matplotlib inline"
   ]
  },
  {
   "cell_type": "code",
   "execution_count": null,
   "metadata": {
    "ExecuteTime": {
     "end_time": "2018-09-18T12:15:27.926959Z",
     "start_time": "2018-09-18T12:15:27.815240Z"
    }
   },
   "outputs": [],
   "source": [
    "from scipy import stats\n",
    "from scipy.stats import ttest_ind\n",
    "from statsmodels.formula.api import ols\n",
    "from sklearn.preprocessing import scale\n",
    "from scipy.cluster.hierarchy import dendrogram, linkage\n",
    "from scipy.cluster.hierarchy import cophenet\n",
    "from scipy.spatial.distance import pdist"
   ]
  },
  {
   "cell_type": "code",
   "execution_count": null,
   "metadata": {
    "ExecuteTime": {
     "end_time": "2018-09-18T12:15:30.469177Z",
     "start_time": "2018-09-18T12:15:30.463705Z"
    },
    "button": false,
    "new_sheet": false,
    "run_control": {
     "read_only": false
    }
   },
   "outputs": [],
   "source": [
    "#to enable looking at files\n",
    "from IPython.display import FileLinks, FileLink\n",
    "\n",
    "# to allow changing directories\n",
    "import os\n",
    "import functools\n",
    "from functools import partial\n",
    "from os import chdir"
   ]
  },
  {
   "cell_type": "markdown",
   "metadata": {
    "button": false,
    "new_sheet": false,
    "run_control": {
     "read_only": false
    }
   },
   "source": [
    "## Colour the cells!\n",
    "\n",
    "Yellow\n",
    "<div class=\"alert alert-block alert-warning\">\n",
    "\n",
    "Green\n",
    "<div class = \"alert alert-success\">\n",
    "\n",
    "Blue\n",
    "<div class = \"alert alert-info\">\n",
    "\n",
    "Red \n",
    "<div class = \"alert alert-danger\">\n",
    "Example coloured cell - useful to note cells you need to go back to"
   ]
  },
  {
   "cell_type": "markdown",
   "metadata": {},
   "source": [
    "Insert image using markdown"
   ]
  },
  {
   "cell_type": "markdown",
   "metadata": {
    "ExecuteTime": {
     "end_time": "2018-09-18T11:31:22.922204Z",
     "start_time": "2018-09-18T11:31:22.800191Z"
    }
   },
   "source": [
    "![Taipei_bioinformatics](pic.JPG)"
   ]
  },
  {
   "cell_type": "markdown",
   "metadata": {},
   "source": [
    "## Using the command line to manage data files"
   ]
  },
  {
   "cell_type": "markdown",
   "metadata": {},
   "source": [
    "What's in the folder?'"
   ]
  },
  {
   "cell_type": "code",
   "execution_count": null,
   "metadata": {
    "ExecuteTime": {
     "end_time": "2018-09-18T11:38:55.513896Z",
     "start_time": "2018-09-18T11:38:55.388395Z"
    }
   },
   "outputs": [],
   "source": [
    "! ls"
   ]
  },
  {
   "cell_type": "markdown",
   "metadata": {},
   "source": [
    "a bit more detail"
   ]
  },
  {
   "cell_type": "code",
   "execution_count": null,
   "metadata": {
    "ExecuteTime": {
     "end_time": "2018-09-18T11:39:05.086009Z",
     "start_time": "2018-09-18T11:39:04.962342Z"
    }
   },
   "outputs": [],
   "source": [
    "! ls -ltr"
   ]
  },
  {
   "cell_type": "markdown",
   "metadata": {},
   "source": [
    "### Checking the file  \n",
    "Checking length  "
   ]
  },
  {
   "cell_type": "code",
   "execution_count": null,
   "metadata": {
    "ExecuteTime": {
     "end_time": "2018-09-18T11:40:44.872545Z",
     "start_time": "2018-09-18T11:40:44.732751Z"
    }
   },
   "outputs": [],
   "source": [
    "! wc -l Iris.txt"
   ]
  },
  {
   "cell_type": "markdown",
   "metadata": {
    "ExecuteTime": {
     "end_time": "2018-09-11T11:26:20.808758Z",
     "start_time": "2018-09-11T11:26:20.801203Z"
    }
   },
   "source": [
    "Checking content"
   ]
  },
  {
   "cell_type": "code",
   "execution_count": null,
   "metadata": {
    "ExecuteTime": {
     "end_time": "2018-09-18T11:40:50.199389Z",
     "start_time": "2018-09-18T11:40:50.075471Z"
    }
   },
   "outputs": [],
   "source": [
    "! head -3 Iris.txt"
   ]
  },
  {
   "cell_type": "code",
   "execution_count": null,
   "metadata": {
    "ExecuteTime": {
     "end_time": "2018-09-18T11:44:36.527773Z",
     "start_time": "2018-09-18T11:44:36.403207Z"
    }
   },
   "outputs": [],
   "source": [
    "! tail -10 Iris.txt"
   ]
  },
  {
   "cell_type": "markdown",
   "metadata": {},
   "source": [
    "Does it contain data from species I. setosa?  \n",
    "\"grep\" - **g**lobally search a **r**egular **e**xpression and **p**rint"
   ]
  },
  {
   "cell_type": "code",
   "execution_count": null,
   "metadata": {
    "ExecuteTime": {
     "end_time": "2018-09-18T11:40:55.028418Z",
     "start_time": "2018-09-18T11:40:54.903912Z"
    }
   },
   "outputs": [],
   "source": [
    "! grep -c \"setosa\" Iris.txt"
   ]
  },
  {
   "cell_type": "markdown",
   "metadata": {},
   "source": [
    "Does it contain data from species I. setosa from Roadside sites?  \n",
    "\"|\" is a pipe - it shuttles the data stream from the expression on the left directly to that on the right.  \n",
    "\n",
    "Helps prevent a bilion tmp files clttering your folder"
   ]
  },
  {
   "cell_type": "code",
   "execution_count": null,
   "metadata": {
    "ExecuteTime": {
     "end_time": "2018-09-18T11:41:02.351388Z",
     "start_time": "2018-09-18T11:41:02.220793Z"
    }
   },
   "outputs": [],
   "source": [
    "! grep \"setosa\" Iris.txt | grep -c \"Roadside\""
   ]
  },
  {
   "cell_type": "markdown",
   "metadata": {},
   "source": [
    "Get a list of the  species in the file and the combinations of species and sites.  \n",
    "\"cat\" concatenates files.  Here it's concatenting it to the command line.  \n",
    "Use \"less\" to scroll through a file (doesn't work well in jupyter cells).  \n",
    "\n",
    "\"sort\" can sort in a number of different ways (-r reverse order, -n numerically)  \n",
    "\"uniq\" removes identical ADJACENT lines (have to sort first)"
   ]
  },
  {
   "cell_type": "code",
   "execution_count": null,
   "metadata": {
    "ExecuteTime": {
     "end_time": "2018-09-18T11:52:51.026472Z",
     "start_time": "2018-09-18T11:52:50.776498Z"
    }
   },
   "outputs": [],
   "source": [
    "! cut -f 5 Iris.txt | sort | uniq > Species\n",
    "! cat Species"
   ]
  },
  {
   "cell_type": "code",
   "execution_count": null,
   "metadata": {
    "ExecuteTime": {
     "end_time": "2018-09-11T11:37:02.534621Z",
     "start_time": "2018-09-11T11:37:02.282185Z"
    }
   },
   "outputs": [],
   "source": [
    "! cut -f 5,6 Iris.txt | sort | uniq > Species_sites\n",
    "! cat Species_sites"
   ]
  },
  {
   "cell_type": "markdown",
   "metadata": {},
   "source": [
    "Count the occurances of each species in the file and summarise.\n",
    "The while loop takes input from a list (in this case \"Species\") and does the same operation (grep counting it's occurance in the Iris datasheet) on each one.  The results are written to \"Counts\".  \n",
    "\">\" would write over \"Counts\" with each opperation.  \n",
    "\">>\" APPENDS the output to the file.  "
   ]
  },
  {
   "cell_type": "code",
   "execution_count": null,
   "metadata": {
    "ExecuteTime": {
     "end_time": "2018-09-18T12:08:00.867146Z",
     "start_time": "2018-09-18T12:08:00.711553Z"
    }
   },
   "outputs": [],
   "source": [
    "! while read f ; do grep -c \"$f\" Iris.txt >> counts ; done < Species"
   ]
  },
  {
   "cell_type": "code",
   "execution_count": null,
   "metadata": {
    "ExecuteTime": {
     "end_time": "2018-09-18T12:08:03.352169Z",
     "start_time": "2018-09-18T12:08:03.226593Z"
    }
   },
   "outputs": [],
   "source": [
    "! cat counts"
   ]
  },
  {
   "cell_type": "markdown",
   "metadata": {
    "ExecuteTime": {
     "end_time": "2018-09-18T12:08:46.176281Z",
     "start_time": "2018-09-18T12:08:46.170830Z"
    }
   },
   "source": [
    "\"Paste\" sticks files together side-by-side.  \n",
    "Useful for adding columns to text files"
   ]
  },
  {
   "cell_type": "code",
   "execution_count": null,
   "metadata": {
    "ExecuteTime": {
     "end_time": "2018-09-18T12:08:07.221809Z",
     "start_time": "2018-09-18T12:08:06.976138Z"
    }
   },
   "outputs": [],
   "source": [
    "! paste Species counts > summary\n",
    "! cat summary"
   ]
  },
  {
   "cell_type": "markdown",
   "metadata": {},
   "source": [
    "Infomation on command line tools can be got from the man pages.  \n",
    "BUT they are not available on the noteable server!  "
   ]
  },
  {
   "cell_type": "code",
   "execution_count": 138,
   "metadata": {
    "ExecuteTime": {
     "end_time": "2018-09-18T13:32:02.450494Z",
     "start_time": "2018-09-18T13:32:02.237036Z"
    }
   },
   "outputs": [
    {
     "name": "stdout",
     "output_type": "stream",
     "text": [
      "\r\n",
      "JOIN(1)                   BSD General Commands Manual                  JOIN(1)\r\n",
      "\r\n",
      "N\bNA\bAM\bME\bE\r\n",
      "     j\bjo\boi\bin\bn -- relational database operator\r\n",
      "\r\n",
      "S\bSY\bYN\bNO\bOP\bPS\bSI\bIS\bS\r\n",
      "     j\bjo\boi\bin\bn [-\b-a\ba _\bf_\bi_\bl_\be_\b__\bn_\bu_\bm_\bb_\be_\br | -\b-v\bv _\bf_\bi_\bl_\be_\b__\bn_\bu_\bm_\bb_\be_\br] [-\b-e\be _\bs_\bt_\br_\bi_\bn_\bg] [-\b-o\bo _\bl_\bi_\bs_\bt] [-\b-t\bt _\bc_\bh_\ba_\br]\r\n",
      "          [-\b-1\b1 _\bf_\bi_\be_\bl_\bd] [-\b-2\b2 _\bf_\bi_\be_\bl_\bd] _\bf_\bi_\bl_\be_\b1 _\bf_\bi_\bl_\be_\b2\r\n",
      "\r\n",
      "D\bDE\bES\bSC\bCR\bRI\bIP\bPT\bTI\bIO\bON\bN\r\n",
      "     The j\bjo\boi\bin\bn utility performs an ``equality join'' on the specified files and\r\n",
      "     writes the result to the standard output.  The ``join field'' is the\r\n",
      "     field in each file by which the files are compared.  The first field in\r\n",
      "     each line is used by default.  There is one line in the output for each\r\n",
      "     pair of lines in _\bf_\bi_\bl_\be_\b1 and _\bf_\bi_\bl_\be_\b2 which have identical join fields.  Each\r\n",
      "     output line consists of the join field, the remaining fields from _\bf_\bi_\bl_\be_\b1\r\n",
      "     and then the remaining fields from _\bf_\bi_\bl_\be_\b2.\r\n",
      "\r\n",
      "     The default field separators are tab and space characters.  In this case,\r\n",
      "     multiple tabs and spaces count as a single field separator, and leading\r\n",
      "     tabs and spaces are ignored.  The default output field separator is a\r\n",
      "     single space character.\r\n",
      "\r\n",
      "     Many of the options use file and field numbers.  Both file numbers and\r\n",
      "     field numbers are 1 based, i.e., the first file on the command line is\r\n",
      "     file number 1 and the first field is field number 1.  The following\r\n",
      "     options are available:\r\n",
      "\r\n",
      "     -\b-a\ba _\bf_\bi_\bl_\be_\b__\bn_\bu_\bm_\bb_\be_\br\r\n",
      "             In addition to the default output, produce a line for each\r\n",
      "             unpairable line in file _\bf_\bi_\bl_\be_\b__\bn_\bu_\bm_\bb_\be_\br.\r\n",
      "\r\n",
      "     -\b-e\be _\bs_\bt_\br_\bi_\bn_\bg\r\n",
      "             Replace empty output fields with _\bs_\bt_\br_\bi_\bn_\bg.\r\n",
      "\r\n",
      "     -\b-o\bo _\bl_\bi_\bs_\bt\r\n",
      "             The -\b-o\bo option specifies the fields that will be output from each\r\n",
      "             file for each line with matching join fields.  Each element of\r\n",
      "             _\bl_\bi_\bs_\bt has the either the form `file_number.field', where\r\n",
      "             _\bf_\bi_\bl_\be_\b__\bn_\bu_\bm_\bb_\be_\br is a file number and _\bf_\bi_\be_\bl_\bd is a field number, or the\r\n",
      "             form `0' (zero), representing the join field.  The elements of\r\n",
      "             list must be either comma (`,') or whitespace separated.  (The\r\n",
      "             latter requires quoting to protect it from the shell, or, a sim-\r\n",
      "             pler approach is to use multiple -\b-o\bo options.)\r\n",
      "\r\n",
      "     -\b-t\bt _\bc_\bh_\ba_\br\r\n",
      "             Use character _\bc_\bh_\ba_\br as a field delimiter for both input and out-\r\n",
      "             put.  Every occurrence of _\bc_\bh_\ba_\br in a line is significant.\r\n",
      "\r\n",
      "     -\b-v\bv _\bf_\bi_\bl_\be_\b__\bn_\bu_\bm_\bb_\be_\br\r\n",
      "             Do not display the default output, but display a line for each\r\n",
      "             unpairable line in file _\bf_\bi_\bl_\be_\b__\bn_\bu_\bm_\bb_\be_\br.  The options -\b-v\bv _\b1 and -\b-v\bv _\b2\r\n",
      "             may be specified at the same time.\r\n",
      "\r\n",
      "     -\b-1\b1 _\bf_\bi_\be_\bl_\bd\r\n",
      "             Join on the _\bf_\bi_\be_\bl_\bd'th field of file 1.\r\n",
      "\r\n",
      "     -\b-2\b2 _\bf_\bi_\be_\bl_\bd\r\n",
      "             Join on the _\bf_\bi_\be_\bl_\bd'th field of file 2.\r\n",
      "\r\n",
      "     When the default field delimiter characters are used, the files to be\r\n",
      "     joined should be ordered in the collating sequence of sort(1), using the\r\n",
      "     -\b-b\bb option, on the fields on which they are to be joined, otherwise j\bjo\boi\bin\bn\r\n",
      "     may not report all field matches.  When the field delimiter characters\r\n",
      "     are specified by the -\b-t\bt option, the collating sequence should be the same\r\n",
      "     as sort(1) without the -\b-b\bb option.\r\n",
      "\r\n",
      "     If one of the arguments _\bf_\bi_\bl_\be_\b1 or _\bf_\bi_\bl_\be_\b2 is ``-'', the standard input is\r\n",
      "     used.\r\n",
      "\r\n",
      "E\bEX\bXI\bIT\bT S\bST\bTA\bAT\bTU\bUS\bS\r\n",
      "     The j\bjo\boi\bin\bn utility exits 0 on success, and >0 if an error occurs.\r\n",
      "\r\n",
      "C\bCO\bOM\bMP\bPA\bAT\bTI\bIB\bBI\bIL\bLI\bIT\bTY\bY\r\n",
      "     For compatibility with historic versions of j\bjo\boi\bin\bn, the following options\r\n",
      "     are available:\r\n",
      "\r\n",
      "     -\b-a\ba      In addition to the default output, produce a line for each\r\n",
      "             unpairable line in both file 1 and file 2.\r\n",
      "\r\n",
      "     -\b-j\bj1\b1 _\bf_\bi_\be_\bl_\bd\r\n",
      "             Join on the _\bf_\bi_\be_\bl_\bd'th field of file 1.\r\n",
      "\r\n",
      "     -\b-j\bj2\b2 _\bf_\bi_\be_\bl_\bd\r\n",
      "             Join on the _\bf_\bi_\be_\bl_\bd'th field of file 2.\r\n",
      "\r\n",
      "     -\b-j\bj _\bf_\bi_\be_\bl_\bd\r\n",
      "             Join on the _\bf_\bi_\be_\bl_\bd'th field of both file 1 and file 2.\r\n",
      "\r\n",
      "     -\b-o\bo _\bl_\bi_\bs_\bt _\b._\b._\b.\r\n",
      "             Historical implementations of j\bjo\boi\bin\bn permitted multiple arguments\r\n",
      "             to the -\b-o\bo option.  These arguments were of the form\r\n",
      "             `file_number.field_number' as described for the current -\b-o\bo\r\n",
      "             option.  This has obvious difficulties in the presence of files\r\n",
      "             named `1.2'.\r\n",
      "\r\n",
      "     These options are available only so historic shell scripts do not require\r\n",
      "     modification.  They should not be used in new code.\r\n",
      "\r\n",
      "L\bLE\bEG\bGA\bAC\bCY\bY D\bDE\bES\bSC\bCR\bRI\bIP\bPT\bTI\bIO\bON\bN\r\n",
      "     The -\b-e\be option causes a specified string to be substituted into empty\r\n",
      "     fields, even if they are in the middle of a line.  In legacy mode, the\r\n",
      "     substitution only takes place at the end of a line.\r\n",
      "\r\n",
      "     Only documented options are allowed.  In legacy mode, some obsolete\r\n",
      "     options are re-written into current options.\r\n",
      "\r\n",
      "     For more information about legacy mode, see compat(5).\r\n",
      "\r\n",
      "S\bSE\bEE\bE A\bAL\bLS\bSO\bO\r\n",
      "     awk(1), comm(1), paste(1), sort(1), uniq(1), compat(5)\r\n",
      "\r\n",
      "S\bST\bTA\bAN\bND\bDA\bAR\bRD\bDS\bS\r\n",
      "     The j\bjo\boi\bin\bn command conforms to IEEE Std 1003.1-2001 (``POSIX.1'').\r\n",
      "\r\n",
      "BSD                              July 5, 2004                              BSD\r\n"
     ]
    }
   ],
   "source": [
    "! man join"
   ]
  },
  {
   "cell_type": "markdown",
   "metadata": {},
   "source": [
    "Change the spelling of a species name.  \n",
    "\"sed\" is a **s**tream text **ed**itor.  \n",
    "It's a mini programming language.  I use it only for this!  "
   ]
  },
  {
   "cell_type": "code",
   "execution_count": null,
   "metadata": {
    "ExecuteTime": {
     "end_time": "2018-09-18T12:10:53.472337Z",
     "start_time": "2018-09-18T12:10:53.340146Z"
    }
   },
   "outputs": [],
   "source": [
    "! sed 's/versicolor/versacolor/g' Iris.txt > tmp.txt"
   ]
  },
  {
   "cell_type": "code",
   "execution_count": null,
   "metadata": {
    "ExecuteTime": {
     "end_time": "2018-09-18T12:10:56.144900Z",
     "start_time": "2018-09-18T12:10:56.018609Z"
    }
   },
   "outputs": [],
   "source": [
    "! head -10 tmp.txt"
   ]
  },
  {
   "cell_type": "markdown",
   "metadata": {},
   "source": [
    "Change the species name only if it is a marsh location.  "
   ]
  },
  {
   "cell_type": "code",
   "execution_count": null,
   "metadata": {
    "ExecuteTime": {
     "end_time": "2018-09-11T11:53:33.882441Z",
     "start_time": "2018-09-11T11:53:33.623119Z"
    }
   },
   "outputs": [],
   "source": [
    " # substitute \"setosa\" with \"palustra\" ONLY for lines which contain \"Marsh\"\n",
    "! awk '/Marsh/{gsub(/setosa/, \"palustra\")}; 1' Iris.txt > marsh.txt\n",
    "! grep \"Marsh\" marsh.txt | tail"
   ]
  },
  {
   "cell_type": "markdown",
   "metadata": {},
   "source": [
    "\"awk\", like sed is an early programming language.  \n",
    "It's very powerful and there is a great stash of oneliners for file management.  \n",
    "https://www.pement.org/awk/awk1line.txt"
   ]
  },
  {
   "cell_type": "code",
   "execution_count": null,
   "metadata": {},
   "outputs": [],
   "source": [
    "# delete trailing whitespace (spaces, tabs) from end of each line\n",
    " awk '{sub(/[ \\t]+$/, \"\")};1'\n",
    "    \n",
    "# change \"scarlet\" or \"ruby\" or \"puce\" to \"red\"\n",
    " awk '{gsub(/scarlet|ruby|puce/, \"red\")}; 1'\n",
    "    \n",
    " # delete ALL blank lines from a file\n",
    " awk NF\n",
    " awk '/./'\n",
    "\n",
    " # print only lines of 65 characters or longer\n",
    " awk 'length > 64'"
   ]
  },
  {
   "cell_type": "markdown",
   "metadata": {},
   "source": [
    "## Using Python for data anlysis"
   ]
  },
  {
   "cell_type": "markdown",
   "metadata": {
    "button": false,
    "new_sheet": false,
    "run_control": {
     "read_only": false
    }
   },
   "source": [
    "Read in from datasheet:"
   ]
  },
  {
   "cell_type": "code",
   "execution_count": null,
   "metadata": {
    "ExecuteTime": {
     "end_time": "2018-09-18T12:23:50.837667Z",
     "start_time": "2018-09-18T12:23:50.832184Z"
    },
    "button": false,
    "new_sheet": false,
    "run_control": {
     "read_only": false
    }
   },
   "outputs": [],
   "source": [
    "df = pd.read_table(\"Iris.txt\")"
   ]
  },
  {
   "cell_type": "markdown",
   "metadata": {
    "ExecuteTime": {
     "end_time": "2017-09-11T17:44:33.776461Z",
     "start_time": "2017-09-11T17:44:33.741839"
    },
    "button": false,
    "new_sheet": false,
    "run_control": {
     "read_only": false
    }
   },
   "source": [
    "Check size of dataframe, gives list with number of rows and number of columns"
   ]
  },
  {
   "cell_type": "code",
   "execution_count": null,
   "metadata": {
    "ExecuteTime": {
     "end_time": "2018-09-18T12:23:54.541330Z",
     "start_time": "2018-09-18T12:23:54.535435Z"
    },
    "button": false,
    "new_sheet": false,
    "run_control": {
     "read_only": false
    }
   },
   "outputs": [],
   "source": [
    "df.shape"
   ]
  },
  {
   "cell_type": "code",
   "execution_count": null,
   "metadata": {
    "ExecuteTime": {
     "end_time": "2018-09-18T12:24:15.432105Z",
     "start_time": "2018-09-18T12:24:15.419419Z"
    },
    "button": false,
    "new_sheet": false,
    "run_control": {
     "read_only": false
    }
   },
   "outputs": [],
   "source": [
    "df.head(3)"
   ]
  },
  {
   "cell_type": "markdown",
   "metadata": {
    "button": false,
    "new_sheet": false,
    "run_control": {
     "read_only": false
    }
   },
   "source": [
    "Check the metrics"
   ]
  },
  {
   "cell_type": "code",
   "execution_count": null,
   "metadata": {
    "ExecuteTime": {
     "end_time": "2018-09-18T12:24:01.140574Z",
     "start_time": "2018-09-18T12:24:01.119282Z"
    },
    "button": false,
    "new_sheet": false,
    "run_control": {
     "read_only": false
    }
   },
   "outputs": [],
   "source": [
    "df.describe()"
   ]
  },
  {
   "cell_type": "markdown",
   "metadata": {
    "button": false,
    "new_sheet": false,
    "run_control": {
     "read_only": false
    }
   },
   "source": [
    "Look at the relationships between variables"
   ]
  },
  {
   "cell_type": "code",
   "execution_count": null,
   "metadata": {
    "ExecuteTime": {
     "end_time": "2018-09-18T12:15:59.976327Z",
     "start_time": "2018-09-18T12:15:58.366574Z"
    },
    "button": false,
    "new_sheet": false,
    "run_control": {
     "read_only": false
    }
   },
   "outputs": [],
   "source": [
    "sns.pairplot(df);"
   ]
  },
  {
   "cell_type": "markdown",
   "metadata": {
    "button": false,
    "new_sheet": false,
    "run_control": {
     "read_only": false
    }
   },
   "source": [
    "Fancier mapping.\n",
    "Look at \n",
    "https://seaborn.pydata.org/tutorial/distributions.html#visualizing-pairwise-relationships-in-a-dataset\n",
    "for some great examples"
   ]
  },
  {
   "cell_type": "code",
   "execution_count": null,
   "metadata": {
    "ExecuteTime": {
     "end_time": "2018-09-18T12:25:00.639437Z",
     "start_time": "2018-09-18T12:24:59.167710Z"
    },
    "button": false,
    "new_sheet": false,
    "run_control": {
     "read_only": false
    }
   },
   "outputs": [],
   "source": [
    "sns.set(style=\"darkgrid\")\n",
    "\n",
    "# Subset the iris dataset by species\n",
    "setosa = df.query(\"Species == 'setosa'\")\n",
    "virginica = df.query(\"Species == 'virginica'\")\n",
    "\n",
    "# Set up the figure\n",
    "f, ax = plt.subplots(figsize=(8, 8))\n",
    "ax.set_aspect(\"equal\")\n",
    "\n",
    "# Draw the two density plots\n",
    "ax = sns.kdeplot(setosa.sepal_width, setosa.sepal_length,\n",
    "                 cmap=\"Reds\", shade=True, shade_lowest=False)\n",
    "ax = sns.kdeplot(virginica.sepal_width, virginica.sepal_length,\n",
    "                 cmap=\"Blues\", shade=True, shade_lowest=False)\n",
    "\n",
    "# Add labels to the plot\n",
    "red = sns.color_palette(\"Reds\")[-2]\n",
    "blue = sns.color_palette(\"Blues\")[-2]\n",
    "ax.text(2.5, 8.2, \"virginica\", size=16, color=blue)\n",
    "ax.text(3.8, 4.5, \"setosa\", size=16, color=red)\n"
   ]
  },
  {
   "cell_type": "markdown",
   "metadata": {
    "button": false,
    "new_sheet": false,
    "run_control": {
     "read_only": false
    }
   },
   "source": [
    "Does Site seem to affect any of the metrics??"
   ]
  },
  {
   "cell_type": "code",
   "execution_count": null,
   "metadata": {
    "ExecuteTime": {
     "end_time": "2018-09-18T12:41:17.582065Z",
     "start_time": "2018-09-18T12:41:17.578687Z"
    }
   },
   "outputs": [],
   "source": [
    "site_colors={'Field': 'green', 'Marsh': 'blue', 'Roadside': 'black'}"
   ]
  },
  {
   "cell_type": "code",
   "execution_count": null,
   "metadata": {
    "ExecuteTime": {
     "end_time": "2018-09-18T12:41:58.219585Z",
     "start_time": "2018-09-18T12:41:52.573163Z"
    },
    "button": false,
    "new_sheet": false,
    "run_control": {
     "read_only": false
    }
   },
   "outputs": [],
   "source": [
    "sns.pairplot(df, vars=['petal_width', 'sepal_width', 'petal_length', 'sepal_length'], palette = site_colors, kind='reg', hue='Site')"
   ]
  },
  {
   "cell_type": "markdown",
   "metadata": {
    "button": false,
    "new_sheet": false,
    "run_control": {
     "read_only": false
    }
   },
   "source": [
    "No obvious effect of Site, but there are clearly several different groups.  Plot by Species"
   ]
  },
  {
   "cell_type": "code",
   "execution_count": null,
   "metadata": {
    "ExecuteTime": {
     "end_time": "2018-09-18T12:42:51.773652Z",
     "start_time": "2018-09-18T12:42:46.529618Z"
    },
    "button": false,
    "new_sheet": false,
    "run_control": {
     "read_only": false
    }
   },
   "outputs": [],
   "source": [
    "sns.pairplot(df, vars=['petal_width', 'sepal_width', 'petal_length', 'sepal_length'], kind='reg', hue='Species')"
   ]
  },
  {
   "cell_type": "markdown",
   "metadata": {},
   "source": [
    "Get the means by species"
   ]
  },
  {
   "cell_type": "code",
   "execution_count": null,
   "metadata": {
    "ExecuteTime": {
     "end_time": "2018-09-18T12:42:57.655489Z",
     "start_time": "2018-09-18T12:42:57.634269Z"
    },
    "button": false,
    "new_sheet": false,
    "run_control": {
     "read_only": false
    }
   },
   "outputs": [],
   "source": [
    "df.groupby('Species').mean()"
   ]
  },
  {
   "cell_type": "markdown",
   "metadata": {},
   "source": [
    "Compare distribution of metrics by species"
   ]
  },
  {
   "cell_type": "code",
   "execution_count": null,
   "metadata": {
    "ExecuteTime": {
     "end_time": "2018-09-18T12:43:17.921642Z",
     "start_time": "2018-09-18T12:43:17.777525Z"
    },
    "button": false,
    "new_sheet": false,
    "run_control": {
     "read_only": false
    }
   },
   "outputs": [],
   "source": [
    "sns.boxplot(x=\"Species\", y=\"petal_length\", data=df);"
   ]
  },
  {
   "cell_type": "markdown",
   "metadata": {},
   "source": [
    "Pile up all the numerical values by Species and plot"
   ]
  },
  {
   "cell_type": "code",
   "execution_count": null,
   "metadata": {
    "ExecuteTime": {
     "end_time": "2018-09-18T13:01:40.046882Z",
     "start_time": "2018-09-18T13:01:40.040167Z"
    }
   },
   "outputs": [],
   "source": [
    "df2 = pd.melt(df.loc[:,\"sepal_length\":\"Species\"], \"Species\", var_name=\"measurement\")"
   ]
  },
  {
   "cell_type": "code",
   "execution_count": null,
   "metadata": {
    "ExecuteTime": {
     "end_time": "2018-09-18T13:01:42.438392Z",
     "start_time": "2018-09-18T13:01:42.014811Z"
    }
   },
   "outputs": [],
   "source": [
    "sns.swarmplot(x=\"measurement\", y=\"value\", hue=\"Species\",\n",
    "              palette=[\"r\", \"c\", \"y\"], data=df2)"
   ]
  },
  {
   "cell_type": "markdown",
   "metadata": {},
   "source": [
    "Compare to sorted by site"
   ]
  },
  {
   "cell_type": "code",
   "execution_count": null,
   "metadata": {
    "ExecuteTime": {
     "end_time": "2018-09-18T13:04:14.517445Z",
     "start_time": "2018-09-18T13:04:14.126752Z"
    }
   },
   "outputs": [],
   "source": [
    "df3 = pd.melt(df.loc[:,[\"sepal_length\", \"sepal_width\", \"petal_length\", \"petal_width\",\"Site\"]], \"Site\", var_name=\"measurement\")\n",
    "sns.swarmplot(x=\"measurement\", y=\"value\", hue=\"Site\",\n",
    "              palette=[\"r\", \"c\", \"y\"], data=df3)"
   ]
  },
  {
   "cell_type": "markdown",
   "metadata": {
    "button": false,
    "new_sheet": false,
    "run_control": {
     "read_only": false
    }
   },
   "source": [
    "Test for significance of the differences between Species in petal_length\n",
    "Get the sets of data for each species"
   ]
  },
  {
   "cell_type": "code",
   "execution_count": null,
   "metadata": {
    "ExecuteTime": {
     "end_time": "2018-09-18T13:05:50.190609Z",
     "start_time": "2018-09-18T13:05:50.182977Z"
    },
    "button": false,
    "new_sheet": false,
    "run_control": {
     "read_only": false
    }
   },
   "outputs": [],
   "source": [
    "versicolor = df[df['Species']=='versicolor']\n",
    "virginica = df[df['Species']=='virginica']\n",
    "setosa = df[df['Species']=='setosa']"
   ]
  },
  {
   "cell_type": "markdown",
   "metadata": {
    "button": false,
    "new_sheet": false,
    "run_control": {
     "read_only": false
    }
   },
   "source": [
    "### T-test"
   ]
  },
  {
   "cell_type": "markdown",
   "metadata": {},
   "source": [
    "Is sepal length the same for *I. veriscolor* and *I. virginia*?"
   ]
  },
  {
   "cell_type": "code",
   "execution_count": null,
   "metadata": {
    "ExecuteTime": {
     "end_time": "2018-09-18T13:08:03.270746Z",
     "start_time": "2018-09-18T13:08:03.264187Z"
    },
    "button": false,
    "new_sheet": false,
    "run_control": {
     "read_only": false
    }
   },
   "outputs": [],
   "source": [
    "scipy.stats.ttest_ind(versicolor['sepal_length'], virginica['sepal_length'], equal_var=False)"
   ]
  },
  {
   "cell_type": "markdown",
   "metadata": {},
   "source": [
    "Is sepal length the same for *I. setosa* and *I. virginia*?"
   ]
  },
  {
   "cell_type": "code",
   "execution_count": null,
   "metadata": {
    "ExecuteTime": {
     "end_time": "2018-09-18T13:08:16.513147Z",
     "start_time": "2018-09-18T13:08:16.506387Z"
    },
    "button": false,
    "new_sheet": false,
    "run_control": {
     "read_only": false
    }
   },
   "outputs": [],
   "source": [
    "scipy.stats.ttest_ind(setosa['sepal_length'], virginica['sepal_length'], equal_var=False)"
   ]
  },
  {
   "cell_type": "markdown",
   "metadata": {
    "ExecuteTime": {
     "end_time": "2017-09-12T08:55:36.758887Z",
     "start_time": "2017-09-12T08:55:36.754785"
    },
    "button": false,
    "new_sheet": false,
    "run_control": {
     "read_only": false
    }
   },
   "source": [
    "### Is there a relationship between sepal length and petal length by species  - using ordinary least squares"
   ]
  },
  {
   "cell_type": "markdown",
   "metadata": {
    "button": false,
    "new_sheet": false,
    "run_control": {
     "read_only": false
    }
   },
   "source": [
    "See more discussion at:\n",
    "https://www.datarobot.com/blog/ordinary-least-squares-in-python/"
   ]
  },
  {
   "cell_type": "code",
   "execution_count": null,
   "metadata": {
    "ExecuteTime": {
     "end_time": "2018-09-18T13:11:05.217366Z",
     "start_time": "2018-09-18T13:11:05.149154Z"
    },
    "button": false,
    "new_sheet": false,
    "run_control": {
     "read_only": false
    }
   },
   "outputs": [],
   "source": [
    "model = ols('sepal_length ~ Species*petal_length', df).fit()\n",
    "print(model.summary())"
   ]
  },
  {
   "cell_type": "markdown",
   "metadata": {
    "button": false,
    "new_sheet": false,
    "run_control": {
     "read_only": false
    }
   },
   "source": [
    "### What the metrics are:\n",
    "\n",
    "The left part of the first table provides basic information about the model fit:  \n",
    "\n",
    "Dep. Variable\tWhich variable is the response in the model  \n",
    "Model\tWhat model you are using in the fit  \n",
    "Method\tHow the parameters of the model were calculated  \n",
    "No. Observations\tThe number of observations (examples)  \n",
    "DF Residuals\tDegrees of freedom of the residuals. Number of observations - number of parameters  \n",
    "DF Model\tNumber of parameters in the model (not including the constant term if present)  \n",
    "\n",
    "The right part of the first table shows the goodness of fit\n",
    "Element\tDescription  \n",
    "R-squared\tThe coefficient of determination. A statistical measure of how well the regression line approximates the real data points  \n",
    "Adj. R-squared\tThe above value adjusted based on the number of observations and the degrees-of-freedom of the residuals  \n",
    "F-statistic\tA measure how significant the fit is. The mean squared error of the model divided by the mean squared error of the residuals  \n",
    "Prob (F-statistic)\tThe probability that you would get the above statistic, given the null hypothesis that they are unrelated  \n",
    "Log-likelihood\tThe log of the likelihood function.  \n",
    "AIC\tThe Akaike Information Criterion. Adjusts the log-likelihood based on the number of observations and the complexity of the model.  \n",
    "BIC\tThe Bayesian Information Criterion. Similar to the AIC, but has a higher penalty for models with more parameters.  \n",
    "\n",
    "The second table reports for each of the coefficients\n",
    "Description The name of the term in the model  \n",
    "coef\tThe estimated value of the coefficient  \n",
    "std err\tThe basic standard error of the estimate of the coefficient. More sophisticated errors are also available.  \n",
    "t\tThe t-statistic value. This is a measure of how statistically significant the coefficient is.  \n",
    "P > |t|\tP-value that the null-hypothesis that the coefficient = 0 is true. If it is less than the confidence level, often 0.05, it indicates that there is a statistically significant relationship between the term and the response.  \n",
    "[95.0% Conf. Interval]\tThe lower and upper values of the 95% confidence interval  \n",
    "\n",
    "Finally, there are several statistical tests to assess the distribution of the residuals\n",
    "Skewness\tA measure of the symmetry of the data about the mean. Normally-distributed errors should be symmetrically distributed about the mean (equal amounts above and below the line).  \n",
    "Kurtosis\tA measure of the shape of the distribution. Compares the amount of data close to the mean with those far away from the mean (in the tails).  \n",
    "Omnibus\tD'Angostino's test. It provides a combined statistical test for the presence of skewness and kurtosis.  \n",
    "Prob(Omnibus)\tThe above statistic turned into a probability  \n",
    "Jarque-Bera\tA different test of the skewness and kurtosis  \n",
    "Prob (JB)\tThe above statistic turned into a probability  \n",
    "Durbin-Watson\tA test for the presence of autocorrelation (that the errors are not independent.) Often important in time-series analysis  \n",
    "Cond. No\tA test for multicollinearity (if in a fit with multiple parameters, the parameters are related with each other).  \n"
   ]
  },
  {
   "cell_type": "markdown",
   "metadata": {
    "button": false,
    "new_sheet": false,
    "run_control": {
     "read_only": false
    }
   },
   "source": [
    "### Is there a relationship between Site and Species for floral metrics?"
   ]
  },
  {
   "cell_type": "code",
   "execution_count": null,
   "metadata": {
    "ExecuteTime": {
     "end_time": "2018-09-18T13:11:41.202079Z",
     "start_time": "2018-09-18T13:11:41.177180Z"
    },
    "button": false,
    "new_sheet": false,
    "run_control": {
     "read_only": false
    }
   },
   "outputs": [],
   "source": [
    "model = ols('petal_length ~ Site + Species + Site*Species', df).fit()\n",
    "print(model.summary())"
   ]
  },
  {
   "cell_type": "markdown",
   "metadata": {
    "button": false,
    "new_sheet": false,
    "run_control": {
     "read_only": false
    }
   },
   "source": [
    "## Correlation heat map\n",
    "Look at the correalations of the floral metrics.  Are petal width and petal length more closely related than petal length and sepal length?"
   ]
  },
  {
   "cell_type": "code",
   "execution_count": null,
   "metadata": {
    "ExecuteTime": {
     "end_time": "2018-09-18T13:15:56.992015Z",
     "start_time": "2018-09-18T13:15:56.762930Z"
    },
    "button": false,
    "new_sheet": false,
    "run_control": {
     "read_only": false
    }
   },
   "outputs": [],
   "source": [
    "# calculate the correlation matrix\n",
    "corr = df.corr()\n",
    "\n",
    "# plot the heatmap\n",
    "sns.heatmap(corr, \n",
    "        xticklabels=corr.columns,\n",
    "        yticklabels=corr.columns)"
   ]
  },
  {
   "cell_type": "markdown",
   "metadata": {
    "button": false,
    "new_sheet": false,
    "run_control": {
     "read_only": false
    }
   },
   "source": [
    "Sepal width is quite independent from the other metrics"
   ]
  },
  {
   "cell_type": "markdown",
   "metadata": {
    "button": false,
    "new_sheet": false,
    "run_control": {
     "read_only": false
    }
   },
   "source": [
    "### Clustering (and some data manipulations) \n",
    "Very useful for exploring data  \n",
    "How do the species and sites cluster?\n",
    "\n",
    "Expects data in the form  \n",
    "        var1 var2 var3 var4  \n",
    "Class1  \n",
    "Class2  \n",
    "Class3  \n",
    "\n",
    "So we need to summarise the dataframe"
   ]
  },
  {
   "cell_type": "code",
   "execution_count": null,
   "metadata": {
    "ExecuteTime": {
     "end_time": "2018-09-18T13:22:18.059462Z",
     "start_time": "2018-09-18T13:22:18.043696Z"
    },
    "button": false,
    "new_sheet": false,
    "run_control": {
     "read_only": false
    }
   },
   "outputs": [],
   "source": [
    "df.head(2)"
   ]
  },
  {
   "cell_type": "markdown",
   "metadata": {
    "ExecuteTime": {
     "end_time": "2018-09-18T13:22:23.047206Z",
     "start_time": "2018-09-18T13:22:23.039504Z"
    },
    "button": false,
    "new_sheet": false,
    "run_control": {
     "read_only": false
    }
   },
   "source": [
    "We want to end up with:\n",
    "\n",
    "| Species_site | av_sepal_length | av_sepal_width | av_petal_length | av_petal_width |\n",
    "| --- | --- | --- | --- | ---|\n",
    "|veriscolor_Field | --- | --- | --- | ---| \n",
    "|vericolor_Marsh  | --- | --- | --- | ---|\n",
    "|veriscolor_Road  | --- | --- | --- | ---|\n",
    "|virginica_Field  | --- | --- | --- | ---|\n",
    "|virginica_Marsh  | --- | --- | --- | ---|\n",
    "|virginica_Road  | --- | --- | --- | ---|\n",
    "|setosa_Field  | --- | --- | --- | ---|\n",
    "|setosa_Marsh  | --- | --- | --- | ---|\n",
    "|setosa_Road  | --- | --- | --- | ---|"
   ]
  },
  {
   "cell_type": "code",
   "execution_count": null,
   "metadata": {
    "ExecuteTime": {
     "end_time": "2018-09-18T13:27:13.818941Z",
     "start_time": "2018-09-18T13:27:13.814725Z"
    },
    "button": false,
    "new_sheet": false,
    "run_control": {
     "read_only": false
    }
   },
   "outputs": [],
   "source": [
    "bygroup = df.groupby(['Species', 'Site'])"
   ]
  },
  {
   "cell_type": "markdown",
   "metadata": {
    "button": false,
    "new_sheet": false,
    "run_control": {
     "read_only": false
    }
   },
   "source": [
    "Check that this is what we expect it to be!"
   ]
  },
  {
   "cell_type": "code",
   "execution_count": null,
   "metadata": {
    "ExecuteTime": {
     "end_time": "2018-09-18T13:27:16.117088Z",
     "start_time": "2018-09-18T13:27:16.074770Z"
    },
    "button": false,
    "new_sheet": false,
    "run_control": {
     "read_only": false
    }
   },
   "outputs": [],
   "source": [
    "bygroup['petal_length'].describe()"
   ]
  },
  {
   "cell_type": "markdown",
   "metadata": {
    "button": false,
    "new_sheet": false,
    "run_control": {
     "read_only": false
    }
   },
   "source": [
    "Get the means"
   ]
  },
  {
   "cell_type": "code",
   "execution_count": null,
   "metadata": {
    "ExecuteTime": {
     "end_time": "2018-09-18T13:27:22.436830Z",
     "start_time": "2018-09-18T13:27:22.424648Z"
    },
    "button": false,
    "new_sheet": false,
    "run_control": {
     "read_only": false
    }
   },
   "outputs": [],
   "source": [
    "df_av = bygroup['petal_length', 'petal_width', 'sepal_width', 'sepal_width'].mean().reset_index()"
   ]
  },
  {
   "cell_type": "code",
   "execution_count": null,
   "metadata": {
    "ExecuteTime": {
     "end_time": "2018-09-18T13:27:24.993346Z",
     "start_time": "2018-09-18T13:27:24.979910Z"
    },
    "button": false,
    "new_sheet": false,
    "run_control": {
     "read_only": false
    }
   },
   "outputs": [],
   "source": [
    "df_av.head(2)"
   ]
  },
  {
   "cell_type": "markdown",
   "metadata": {
    "button": false,
    "new_sheet": false,
    "run_control": {
     "read_only": false
    }
   },
   "source": [
    "NOTE these are AVERAGES - have to rename the columns, then export the dataframe"
   ]
  },
  {
   "cell_type": "code",
   "execution_count": null,
   "metadata": {
    "ExecuteTime": {
     "end_time": "2018-09-18T13:27:29.121316Z",
     "start_time": "2018-09-18T13:27:29.114270Z"
    },
    "button": false,
    "new_sheet": false,
    "run_control": {
     "read_only": false
    }
   },
   "outputs": [],
   "source": [
    "df_av.columns = ['Species', 'Site', 'petal_length_mean', 'petal_width_mean', 'sepal_length_mean', 'sepal_width_mean']\n",
    "df_av.to_csv('Iris_average.csv', index=False)"
   ]
  },
  {
   "cell_type": "markdown",
   "metadata": {
    "button": false,
    "new_sheet": false,
    "run_control": {
     "read_only": false
    }
   },
   "source": [
    "Combine the first two columns into one"
   ]
  },
  {
   "cell_type": "code",
   "execution_count": null,
   "metadata": {
    "ExecuteTime": {
     "end_time": "2018-09-18T13:27:33.151777Z",
     "start_time": "2018-09-18T13:27:33.145269Z"
    },
    "button": false,
    "new_sheet": false,
    "run_control": {
     "read_only": false
    }
   },
   "outputs": [],
   "source": [
    "df_av[\"Plant\"] = df_av[\"Species\"].map(str) + \"_\" + df_av[\"Site\"]"
   ]
  },
  {
   "cell_type": "markdown",
   "metadata": {
    "button": false,
    "new_sheet": false,
    "run_control": {
     "read_only": false
    }
   },
   "source": [
    "Drop the redundant columns,   \n",
    "Re-order,  \n",
    "Make the first colum the index"
   ]
  },
  {
   "cell_type": "code",
   "execution_count": null,
   "metadata": {
    "ExecuteTime": {
     "end_time": "2018-09-18T13:27:41.515522Z",
     "start_time": "2018-09-18T13:27:41.499425Z"
    },
    "button": false,
    "new_sheet": false,
    "run_control": {
     "read_only": false
    }
   },
   "outputs": [],
   "source": [
    "df_av.drop([\"Species\",\"Site\"], 1)"
   ]
  },
  {
   "cell_type": "code",
   "execution_count": null,
   "metadata": {
    "ExecuteTime": {
     "end_time": "2018-09-18T13:28:17.841873Z",
     "start_time": "2018-09-18T13:28:17.834408Z"
    },
    "button": false,
    "new_sheet": false,
    "run_control": {
     "read_only": false
    }
   },
   "outputs": [],
   "source": [
    "df_av = df_av[['Plant', 'petal_length_mean', 'petal_width_mean', 'sepal_length_mean', 'sepal_width_mean']]"
   ]
  },
  {
   "cell_type": "code",
   "execution_count": null,
   "metadata": {
    "ExecuteTime": {
     "end_time": "2018-09-18T13:28:33.024395Z",
     "start_time": "2018-09-18T13:28:33.011218Z"
    },
    "button": false,
    "new_sheet": false,
    "run_control": {
     "read_only": false
    }
   },
   "outputs": [],
   "source": [
    "df_av.head(2)"
   ]
  },
  {
   "cell_type": "markdown",
   "metadata": {
    "button": false,
    "new_sheet": false,
    "run_control": {
     "read_only": false
    }
   },
   "source": [
    "We can illustrate this data set as a heat map (coloured by absolute value, not correlations as before):"
   ]
  },
  {
   "cell_type": "code",
   "execution_count": null,
   "metadata": {
    "ExecuteTime": {
     "end_time": "2018-09-18T13:28:37.108942Z",
     "start_time": "2018-09-18T13:28:37.104170Z"
    },
    "button": false,
    "new_sheet": false,
    "run_control": {
     "read_only": false
    }
   },
   "outputs": [],
   "source": [
    "df_cluster = df_av.set_index('Plant')"
   ]
  },
  {
   "cell_type": "code",
   "execution_count": null,
   "metadata": {
    "ExecuteTime": {
     "end_time": "2018-09-18T13:28:40.825445Z",
     "start_time": "2018-09-18T13:28:40.438727Z"
    },
    "button": false,
    "new_sheet": false,
    "run_control": {
     "read_only": false
    }
   },
   "outputs": [],
   "source": [
    "sns.heatmap(df_cluster, annot=True)"
   ]
  },
  {
   "cell_type": "code",
   "execution_count": null,
   "metadata": {
    "ExecuteTime": {
     "end_time": "2018-09-18T13:29:07.370635Z",
     "start_time": "2018-09-18T13:29:07.355121Z"
    },
    "button": false,
    "new_sheet": false,
    "run_control": {
     "read_only": false
    }
   },
   "outputs": [],
   "source": [
    "# generate the linkage matrix\n",
    "from scipy.cluster.hierarchy import cophenet\n",
    "from scipy.spatial.distance import pdist\n",
    "\n",
    "Z = linkage(df_cluster, 'ward')\n",
    "c, coph_dists = cophenet(Z, pdist(df_cluster))\n",
    "c"
   ]
  },
  {
   "cell_type": "code",
   "execution_count": null,
   "metadata": {
    "ExecuteTime": {
     "end_time": "2018-09-18T13:29:10.356222Z",
     "start_time": "2018-09-18T13:29:10.089348Z"
    },
    "button": false,
    "new_sheet": false,
    "run_control": {
     "read_only": false
    }
   },
   "outputs": [],
   "source": [
    "# calculate full dendrogram\n",
    "plt.figure(figsize=(25, 10))\n",
    "plt.title('Hierarchical Clustering Dendrogram of accessions by sequence distance')\n",
    "plt.xlabel('Accession')\n",
    "plt.ylabel('100*(average(% ID/length of match)/bp in assembly)')\n",
    "dendrogram(\n",
    "    Z,\n",
    "    labels=(df_cluster.index),\n",
    "    leaf_rotation=90.,  # rotates the x axis labels\n",
    "    leaf_font_size=14.,  # font size for the x axis labels\n",
    ")\n",
    "plt.show()"
   ]
  },
  {
   "cell_type": "markdown",
   "metadata": {
    "button": false,
    "new_sheet": false,
    "run_control": {
     "read_only": false
    }
   },
   "source": [
    "Shows very little varation between sites (short branches),  \n",
    "no consistent realtionship between sites within a species \n",
    "and a closer realtionship between veriscolor and virginica than with setosa"
   ]
  },
  {
   "cell_type": "markdown",
   "metadata": {
    "button": false,
    "new_sheet": false,
    "run_control": {
     "read_only": false
    }
   },
   "source": [
    "   Read the docs:  \n",
    "   https://pandas.pydata.org/pandas-docs/stable/10min.html\n",
    "   \n",
    "   DataQuest Tutorial on Data Analysis:   \n",
    "   https://www.dataquest.io/blog/pandas-python-tutorial/\n",
    "    \n",
    "   Seaborn:  \n",
    "   https://seaborn.pydata.org/\n",
    "    "
   ]
  }
 ],
 "metadata": {
  "anaconda-cloud": {},
  "kernelspec": {
   "display_name": "Python 3",
   "language": "python",
   "name": "python3"
  },
  "language_info": {
   "codemirror_mode": {
    "name": "ipython",
    "version": 3
   },
   "file_extension": ".py",
   "mimetype": "text/x-python",
   "name": "python",
   "nbconvert_exporter": "python",
   "pygments_lexer": "ipython3",
   "version": "3.6.4"
  }
 },
 "nbformat": 4,
 "nbformat_minor": 1
}
