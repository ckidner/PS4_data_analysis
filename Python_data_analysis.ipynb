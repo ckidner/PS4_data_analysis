{
 "cells": [
  {
   "cell_type": "markdown",
   "metadata": {},
   "source": [
    "# Using a Jupyter Notebook for data analysis"
   ]
  },
  {
   "cell_type": "markdown",
   "metadata": {},
   "source": [
    "Why do this?  \n",
    "Can run code, keep notes and generate graphical and statistical analyses all in the one spot.    \n",
    "Backs up nicely on Github and is viewable there.   \n",
    "Can duplicate the notebook to run the same exact analysis on new data.  "
   ]
  },
  {
   "cell_type": "markdown",
   "metadata": {},
   "source": [
    "Can use all the resources of the python/R community.  \n",
    "For example, here we're importing a set of data analysis modules:  "
   ]
  },
  {
   "cell_type": "code",
   "execution_count": null,
   "metadata": {
    "ExecuteTime": {
     "end_time": "2018-09-11T11:38:00.304369Z",
     "start_time": "2018-09-11T11:37:49.911247Z"
    }
   },
   "outputs": [],
   "source": [
    "# Analysis modules\n",
    "import numpy as np\n",
    "import pandas as pd\n",
    "import matplotlib as mpl\n",
    "import matplotlib.pyplot as plt\n",
    "import seaborn as sns\n",
    "import scipy\n",
    "import statsmodels.api as sm\n",
    "np.set_printoptions(precision=5, suppress=True)  # suppress scientific floatation \n",
    "sns.set(color_codes=True)\n",
    "%matplotlib inline"
   ]
  },
  {
   "cell_type": "code",
   "execution_count": null,
   "metadata": {
    "ExecuteTime": {
     "end_time": "2018-09-11T11:38:00.699622Z",
     "start_time": "2018-09-11T11:38:00.306449Z"
    }
   },
   "outputs": [],
   "source": [
    "from scipy import stats\n",
    "from scipy.stats import ttest_ind\n",
    "from statsmodels.formula.api import ols\n",
    "from sklearn.preprocessing import scale\n",
    "from scipy.cluster.hierarchy import dendrogram, linkage\n",
    "from scipy.cluster.hierarchy import cophenet\n",
    "from scipy.spatial.distance import pdist"
   ]
  },
  {
   "cell_type": "code",
   "execution_count": null,
   "metadata": {
    "ExecuteTime": {
     "end_time": "2018-09-11T11:38:00.707173Z",
     "start_time": "2018-09-11T11:38:00.701778Z"
    },
    "button": false,
    "new_sheet": false,
    "run_control": {
     "read_only": false
    }
   },
   "outputs": [],
   "source": [
    "#to enable looking at files\n",
    "from IPython.display import FileLinks, FileLink\n",
    "\n",
    "# to allow changing directories\n",
    "import os\n",
    "import functools\n",
    "from functools import partial\n",
    "from os import chdir"
   ]
  },
  {
   "cell_type": "markdown",
   "metadata": {
    "button": false,
    "new_sheet": false,
    "run_control": {
     "read_only": false
    }
   },
   "source": [
    "## Colour the cells!\n",
    "\n",
    "Yellow\n",
    "<div class=\"alert alert-block alert-warning\">\n",
    "\n",
    "Green\n",
    "<div class = \"alert alert-success\">\n",
    "\n",
    "Blue\n",
    "<div class = \"alert alert-info\">\n",
    "\n",
    "Red \n",
    "<div class = \"alert alert-danger\">\n",
    "Example coloured cell - useful to note cells you need to go back to"
   ]
  },
  {
   "cell_type": "markdown",
   "metadata": {},
   "source": [
    "Insert image using markdown"
   ]
  },
  {
   "cell_type": "markdown",
   "metadata": {
    "ExecuteTime": {
     "end_time": "2018-09-18T11:31:22.922204Z",
     "start_time": "2018-09-18T11:31:22.800191Z"
    }
   },
   "source": [
    "![Taipei_bioinformatics](pic.JPG)"
   ]
  },
  {
   "cell_type": "markdown",
   "metadata": {},
   "source": [
    "## Using the command line to manage data files"
   ]
  },
  {
   "cell_type": "code",
   "execution_count": null,
   "metadata": {},
   "outputs": [],
   "source": [
    "Waht's i'"
   ]
  },
  {
   "cell_type": "code",
   "execution_count": 7,
   "metadata": {
    "ExecuteTime": {
     "end_time": "2018-09-18T11:38:55.513896Z",
     "start_time": "2018-09-18T11:38:55.388395Z"
    }
   },
   "outputs": [
    {
     "name": "stdout",
     "output_type": "stream",
     "text": [
      "Iris.csv                   README.md\r\n",
      "Python_data_analysis.ipynb pic.JPG\r\n"
     ]
    }
   ],
   "source": [
    "! ls"
   ]
  },
  {
   "cell_type": "code",
   "execution_count": 8,
   "metadata": {
    "ExecuteTime": {
     "end_time": "2018-09-18T11:39:05.086009Z",
     "start_time": "2018-09-18T11:39:04.962342Z"
    }
   },
   "outputs": [
    {
     "name": "stdout",
     "output_type": "stream",
     "text": [
      "total 440\r\n",
      "-rw-r--r--@ 1 catherine  staff    3077 11 Sep  2017 Iris.csv\r\n",
      "-rw-r--r--  1 catherine  staff      69 12 Sep  2017 README.md\r\n",
      "-rw-r--r--@ 1 catherine  staff  175775  9 Nov  2017 pic.JPG\r\n",
      "-rw-r--r--  1 catherine  staff   37655 18 Sep 12:37 Python_data_analysis.ipynb\r\n"
     ]
    }
   ],
   "source": [
    "! ls -ltr"
   ]
  },
  {
   "cell_type": "markdown",
   "metadata": {},
   "source": [
    "### Checking the file  \n",
    "Checking length  "
   ]
  },
  {
   "cell_type": "code",
   "execution_count": null,
   "metadata": {
    "ExecuteTime": {
     "end_time": "2018-09-11T11:38:15.517143Z",
     "start_time": "2018-09-11T11:38:15.366860Z"
    }
   },
   "outputs": [],
   "source": [
    "! wc -l Iris.txt"
   ]
  },
  {
   "cell_type": "markdown",
   "metadata": {
    "ExecuteTime": {
     "end_time": "2018-09-11T11:26:20.808758Z",
     "start_time": "2018-09-11T11:26:20.801203Z"
    }
   },
   "source": [
    "Checking content"
   ]
  },
  {
   "cell_type": "code",
   "execution_count": null,
   "metadata": {
    "ExecuteTime": {
     "end_time": "2018-09-11T11:38:19.912596Z",
     "start_time": "2018-09-11T11:38:19.787698Z"
    }
   },
   "outputs": [],
   "source": [
    "! head -3 Iris.txt"
   ]
  },
  {
   "cell_type": "markdown",
   "metadata": {},
   "source": [
    "Does it contain data from species I. setosa?"
   ]
  },
  {
   "cell_type": "code",
   "execution_count": null,
   "metadata": {
    "ExecuteTime": {
     "end_time": "2018-09-11T11:38:24.972158Z",
     "start_time": "2018-09-11T11:38:24.841911Z"
    }
   },
   "outputs": [],
   "source": [
    "! grep -c \"setosa\" Iris.txt"
   ]
  },
  {
   "cell_type": "markdown",
   "metadata": {},
   "source": [
    "Does it contain data from species I. setosa from Roadside sites?"
   ]
  },
  {
   "cell_type": "code",
   "execution_count": null,
   "metadata": {
    "ExecuteTime": {
     "end_time": "2018-09-11T11:38:27.801198Z",
     "start_time": "2018-09-11T11:38:27.672592Z"
    }
   },
   "outputs": [],
   "source": [
    "! grep \"setosa\" Iris.txt | grep -c \"Roadside\""
   ]
  },
  {
   "cell_type": "markdown",
   "metadata": {},
   "source": [
    "Get a list of the  species in the file and the combinations of species and sites"
   ]
  },
  {
   "cell_type": "code",
   "execution_count": null,
   "metadata": {
    "ExecuteTime": {
     "end_time": "2018-09-11T11:36:34.837862Z",
     "start_time": "2018-09-11T11:36:34.580372Z"
    }
   },
   "outputs": [],
   "source": [
    "! cut -f 5 Iris.txt | sort | uniq > Species\n",
    "! cat Species"
   ]
  },
  {
   "cell_type": "code",
   "execution_count": null,
   "metadata": {
    "ExecuteTime": {
     "end_time": "2018-09-11T11:37:02.534621Z",
     "start_time": "2018-09-11T11:37:02.282185Z"
    }
   },
   "outputs": [],
   "source": [
    "! cut -f 5,6 Iris.txt | sort | uniq > Species_sites\n",
    "! cat Species_sites"
   ]
  },
  {
   "cell_type": "markdown",
   "metadata": {},
   "source": [
    "Count the occurances of each species in the file and summarise"
   ]
  },
  {
   "cell_type": "code",
   "execution_count": null,
   "metadata": {
    "ExecuteTime": {
     "end_time": "2018-09-11T11:41:46.496619Z",
     "start_time": "2018-09-11T11:41:46.347209Z"
    }
   },
   "outputs": [],
   "source": [
    "! while read f ; do grep -c \"$f\" Iris.txt >> counts ; done < Species"
   ]
  },
  {
   "cell_type": "code",
   "execution_count": null,
   "metadata": {
    "ExecuteTime": {
     "end_time": "2018-09-11T11:41:49.089035Z",
     "start_time": "2018-09-11T11:41:48.958502Z"
    }
   },
   "outputs": [],
   "source": [
    "! cat counts"
   ]
  },
  {
   "cell_type": "code",
   "execution_count": null,
   "metadata": {
    "ExecuteTime": {
     "end_time": "2018-09-11T11:41:52.349502Z",
     "start_time": "2018-09-11T11:41:52.081619Z"
    }
   },
   "outputs": [],
   "source": [
    "! paste Species counts > summary\n",
    "! cat summary"
   ]
  },
  {
   "cell_type": "markdown",
   "metadata": {},
   "source": [
    "Change the spelling of a species name"
   ]
  },
  {
   "cell_type": "code",
   "execution_count": null,
   "metadata": {
    "ExecuteTime": {
     "end_time": "2018-09-11T11:38:38.004240Z",
     "start_time": "2018-09-11T11:38:37.868035Z"
    }
   },
   "outputs": [],
   "source": [
    "! sed 's/versicolor/versacolor/g' Iris.txt > tmp.txt"
   ]
  },
  {
   "cell_type": "code",
   "execution_count": null,
   "metadata": {
    "ExecuteTime": {
     "end_time": "2018-09-11T11:38:40.406844Z",
     "start_time": "2018-09-11T11:38:40.279703Z"
    }
   },
   "outputs": [],
   "source": [
    "! head -10 tmp.txt"
   ]
  },
  {
   "cell_type": "markdown",
   "metadata": {},
   "source": [
    "Change the species name only if it is a marsh location"
   ]
  },
  {
   "cell_type": "code",
   "execution_count": null,
   "metadata": {
    "ExecuteTime": {
     "end_time": "2018-09-11T11:53:33.882441Z",
     "start_time": "2018-09-11T11:53:33.623119Z"
    }
   },
   "outputs": [],
   "source": [
    "# substitute \"setosa\" with \"palustra\" ONLY for lines which contain \"Marsh\"\n",
    "! awk '/Marsh/{gsub(/setosa/, \"palustra\")}; 1' Iris.txt > marsh.txt\n",
    "! grep \"Marsh\" marsh.txt | tail"
   ]
  },
  {
   "cell_type": "markdown",
   "metadata": {},
   "source": [
    "Infomation on command line tools can be got from the man pages"
   ]
  },
  {
   "cell_type": "code",
   "execution_count": null,
   "metadata": {
    "ExecuteTime": {
     "end_time": "2018-09-11T11:47:18.586466Z",
     "start_time": "2018-09-11T11:47:18.287612Z"
    }
   },
   "outputs": [],
   "source": [
    "! man join"
   ]
  },
  {
   "cell_type": "markdown",
   "metadata": {},
   "source": [
    "### AWK - a command line programing language very useful for quick fixes"
   ]
  },
  {
   "cell_type": "code",
   "execution_count": null,
   "metadata": {},
   "outputs": [],
   "source": [
    "https://www.pement.org/awk/awk1line.txt"
   ]
  },
  {
   "cell_type": "code",
   "execution_count": null,
   "metadata": {},
   "outputs": [],
   "source": [
    "# delete trailing whitespace (spaces, tabs) from end of each line\n",
    " awk '{sub(/[ \\t]+$/, \"\")};1'\n",
    "    \n",
    "# change \"scarlet\" or \"ruby\" or \"puce\" to \"red\"\n",
    " awk '{gsub(/scarlet|ruby|puce/, \"red\")}; 1'\n",
    "    \n",
    " # delete ALL blank lines from a file\n",
    " awk NF\n",
    " awk '/./'\n",
    "\n",
    " # print only lines of 65 characters or longer\n",
    " awk 'length > 64'"
   ]
  },
  {
   "cell_type": "markdown",
   "metadata": {},
   "source": [
    "## Using Python for data anlysis"
   ]
  },
  {
   "cell_type": "markdown",
   "metadata": {
    "button": false,
    "new_sheet": false,
    "run_control": {
     "read_only": false
    }
   },
   "source": [
    "Read in from datasheet:"
   ]
  },
  {
   "cell_type": "code",
   "execution_count": null,
   "metadata": {
    "ExecuteTime": {
     "end_time": "2017-11-09T15:45:18.049828Z",
     "start_time": "2017-11-09T15:45:17.939154"
    },
    "button": false,
    "new_sheet": false,
    "run_control": {
     "read_only": false
    }
   },
   "outputs": [],
   "source": [
    "df = pd.read_table(\"Iris.txt\")"
   ]
  },
  {
   "cell_type": "markdown",
   "metadata": {
    "ExecuteTime": {
     "end_time": "2017-09-11T17:44:33.776461Z",
     "start_time": "2017-09-11T17:44:33.741839"
    },
    "button": false,
    "new_sheet": false,
    "run_control": {
     "read_only": false
    }
   },
   "source": [
    "Check size of dataframe, gives list with number of rows and number of columns"
   ]
  },
  {
   "cell_type": "code",
   "execution_count": null,
   "metadata": {
    "ExecuteTime": {
     "end_time": "2017-09-12T08:34:24.357854Z",
     "start_time": "2017-09-12T08:34:24.350586"
    },
    "button": false,
    "new_sheet": false,
    "run_control": {
     "read_only": false
    }
   },
   "outputs": [],
   "source": [
    "df.shape"
   ]
  },
  {
   "cell_type": "code",
   "execution_count": null,
   "metadata": {
    "ExecuteTime": {
     "end_time": "2017-09-12T08:34:27.269812Z",
     "start_time": "2017-09-12T08:34:27.243444"
    },
    "button": false,
    "new_sheet": false,
    "run_control": {
     "read_only": false
    }
   },
   "outputs": [],
   "source": [
    "df.head(2)"
   ]
  },
  {
   "cell_type": "markdown",
   "metadata": {
    "button": false,
    "new_sheet": false,
    "run_control": {
     "read_only": false
    }
   },
   "source": [
    "Check the metrics"
   ]
  },
  {
   "cell_type": "code",
   "execution_count": null,
   "metadata": {
    "ExecuteTime": {
     "end_time": "2017-11-09T15:45:24.015504Z",
     "start_time": "2017-11-09T15:45:23.992086"
    },
    "button": false,
    "new_sheet": false,
    "run_control": {
     "read_only": false
    }
   },
   "outputs": [],
   "source": [
    "df.describe()"
   ]
  },
  {
   "cell_type": "markdown",
   "metadata": {
    "button": false,
    "new_sheet": false,
    "run_control": {
     "read_only": false
    }
   },
   "source": [
    "Look at the realtionships between variables"
   ]
  },
  {
   "cell_type": "code",
   "execution_count": null,
   "metadata": {
    "ExecuteTime": {
     "end_time": "2017-11-09T15:45:30.358850Z",
     "start_time": "2017-11-09T15:45:27.627624"
    },
    "button": false,
    "new_sheet": false,
    "run_control": {
     "read_only": false
    }
   },
   "outputs": [],
   "source": [
    "sns.pairplot(df);"
   ]
  },
  {
   "cell_type": "markdown",
   "metadata": {
    "button": false,
    "new_sheet": false,
    "run_control": {
     "read_only": false
    }
   },
   "source": [
    "Fancier mapping.\n",
    "Look at \n",
    "https://seaborn.pydata.org/tutorial/distributions.html#visualizing-pairwise-relationships-in-a-dataset\n",
    "for some great examples"
   ]
  },
  {
   "cell_type": "code",
   "execution_count": null,
   "metadata": {
    "ExecuteTime": {
     "end_time": "2017-09-11T17:59:51.400644Z",
     "start_time": "2017-09-11T17:59:47.042032"
    },
    "button": false,
    "new_sheet": false,
    "run_control": {
     "read_only": false
    }
   },
   "outputs": [],
   "source": [
    "g = sns.PairGrid(df)\n",
    "g.map_diag(sns.kdeplot)\n",
    "g.map_offdiag(sns.kdeplot, cmap=\"Blues_d\", n_levels=7);"
   ]
  },
  {
   "cell_type": "code",
   "execution_count": null,
   "metadata": {
    "ExecuteTime": {
     "end_time": "2017-11-09T15:51:27.235426Z",
     "start_time": "2017-11-09T15:51:27.111653"
    },
    "button": false,
    "new_sheet": false,
    "run_control": {
     "read_only": false
    }
   },
   "outputs": [],
   "source": [
    "! ls"
   ]
  },
  {
   "cell_type": "code",
   "execution_count": null,
   "metadata": {
    "ExecuteTime": {
     "end_time": "2017-11-09T15:51:40.467732Z",
     "start_time": "2017-11-09T15:51:40.337796"
    },
    "button": false,
    "new_sheet": false,
    "run_control": {
     "read_only": false
    }
   },
   "outputs": [],
   "source": [
    "! cat tmp"
   ]
  },
  {
   "cell_type": "code",
   "execution_count": null,
   "metadata": {
    "button": false,
    "new_sheet": false,
    "run_control": {
     "read_only": false
    }
   },
   "outputs": [],
   "source": [
    "! perl my_script.pl"
   ]
  },
  {
   "cell_type": "markdown",
   "metadata": {
    "button": false,
    "new_sheet": false,
    "run_control": {
     "read_only": false
    }
   },
   "source": [
    "Does Site seem to affect any of the metrics??"
   ]
  },
  {
   "cell_type": "code",
   "execution_count": null,
   "metadata": {
    "ExecuteTime": {
     "end_time": "2017-11-09T15:45:45.634452Z",
     "start_time": "2017-11-09T15:45:39.923918"
    },
    "button": false,
    "new_sheet": false,
    "run_control": {
     "read_only": false
    }
   },
   "outputs": [],
   "source": [
    "sns.pairplot(df, vars=['petal_width', 'sepal_width', 'petal_length', 'sepal_length'], kind='reg', hue='Site')"
   ]
  },
  {
   "cell_type": "markdown",
   "metadata": {
    "button": false,
    "new_sheet": false,
    "run_control": {
     "read_only": false
    }
   },
   "source": [
    "No obvious effect of Site, but there are clearly several different groups.  Plot by Species"
   ]
  },
  {
   "cell_type": "code",
   "execution_count": null,
   "metadata": {
    "ExecuteTime": {
     "end_time": "2017-09-12T08:43:51.729779Z",
     "start_time": "2017-09-12T08:43:45.768603"
    },
    "button": false,
    "new_sheet": false,
    "run_control": {
     "read_only": false
    }
   },
   "outputs": [],
   "source": [
    "sns.pairplot(df, vars=['petal_width', 'sepal_width', 'petal_length', 'sepal_length'], kind='reg', hue='Species')"
   ]
  },
  {
   "cell_type": "code",
   "execution_count": null,
   "metadata": {
    "ExecuteTime": {
     "end_time": "2017-09-12T08:36:26.699238Z",
     "start_time": "2017-09-12T08:36:26.686152"
    },
    "button": false,
    "new_sheet": false,
    "run_control": {
     "read_only": false
    }
   },
   "outputs": [],
   "source": [
    "df.groupby('Species').mean()"
   ]
  },
  {
   "cell_type": "code",
   "execution_count": null,
   "metadata": {
    "ExecuteTime": {
     "end_time": "2017-09-11T18:05:03.449974Z",
     "start_time": "2017-09-11T18:05:03.263878"
    },
    "button": false,
    "new_sheet": false,
    "run_control": {
     "read_only": false
    }
   },
   "outputs": [],
   "source": [
    "sns.boxplot(x=\"Species\", y=\"petal_length\", data=df);"
   ]
  },
  {
   "cell_type": "markdown",
   "metadata": {
    "button": false,
    "new_sheet": false,
    "run_control": {
     "read_only": false
    }
   },
   "source": [
    "Test for significance of the differences between Species in petal_length\n",
    "Get the sets of data for each species"
   ]
  },
  {
   "cell_type": "code",
   "execution_count": null,
   "metadata": {
    "ExecuteTime": {
     "end_time": "2017-09-20T14:35:50.478783Z",
     "start_time": "2017-09-20T14:35:50.467914"
    },
    "button": false,
    "new_sheet": false,
    "run_control": {
     "read_only": false
    }
   },
   "outputs": [],
   "source": [
    "versicolor = df[df['Species']=='versicolor']\n",
    "virginica = df[df['Species']=='virginica']\n",
    "setosa = df[df['Species']=='setosa']"
   ]
  },
  {
   "cell_type": "markdown",
   "metadata": {
    "button": false,
    "new_sheet": false,
    "run_control": {
     "read_only": false
    }
   },
   "source": [
    "### T-test"
   ]
  },
  {
   "cell_type": "code",
   "execution_count": null,
   "metadata": {
    "ExecuteTime": {
     "end_time": "2017-09-20T14:35:52.965828Z",
     "start_time": "2017-09-20T14:35:52.956325"
    },
    "button": false,
    "new_sheet": false,
    "run_control": {
     "read_only": false
    }
   },
   "outputs": [],
   "source": [
    "scipy.stats.ttest_ind(versicolor['petal_length'], virginica['petal_length'], equal_var=False)"
   ]
  },
  {
   "cell_type": "code",
   "execution_count": null,
   "metadata": {
    "ExecuteTime": {
     "end_time": "2017-09-20T14:36:05.832629Z",
     "start_time": "2017-09-20T14:36:05.827617"
    },
    "button": false,
    "new_sheet": false,
    "run_control": {
     "read_only": false
    }
   },
   "outputs": [],
   "source": [
    "scipy.stats.ttest_ind(setosa['petal_length'], virginica['petal_length'], equal_var=False)"
   ]
  },
  {
   "cell_type": "markdown",
   "metadata": {
    "button": false,
    "new_sheet": false,
    "run_control": {
     "read_only": false
    }
   },
   "source": [
    "### Mann Whitney test"
   ]
  },
  {
   "cell_type": "code",
   "execution_count": null,
   "metadata": {
    "button": false,
    "new_sheet": false,
    "run_control": {
     "read_only": false
    }
   },
   "outputs": [],
   "source": [
    "from scipy import stats  \n",
    "z_stat, p_val = stats.ranksums(df[\"Beg1_1\"], HP_luz12[\"1_1_length\"])  \n",
    "print (\"MWW RankSum P for treatments 1 and 2 =\", p_val)  "
   ]
  },
  {
   "cell_type": "code",
   "execution_count": null,
   "metadata": {
    "button": false,
    "new_sheet": false,
    "run_control": {
     "read_only": false
    }
   },
   "outputs": [],
   "source": []
  },
  {
   "cell_type": "markdown",
   "metadata": {
    "ExecuteTime": {
     "end_time": "2017-09-20T14:37:59.056523Z",
     "start_time": "2017-09-20T14:37:59.051306"
    },
    "button": false,
    "collapsed": true,
    "new_sheet": false,
    "run_control": {
     "read_only": false
    }
   },
   "source": [
    "Clearly different"
   ]
  },
  {
   "cell_type": "markdown",
   "metadata": {
    "ExecuteTime": {
     "end_time": "2017-09-12T08:55:36.758887Z",
     "start_time": "2017-09-12T08:55:36.754785"
    },
    "button": false,
    "new_sheet": false,
    "run_control": {
     "read_only": false
    }
   },
   "source": [
    "### Analysis of the relationship between sepal length and petal length by species using ordinary least squares"
   ]
  },
  {
   "cell_type": "markdown",
   "metadata": {
    "button": false,
    "new_sheet": false,
    "run_control": {
     "read_only": false
    }
   },
   "source": [
    "See more discussion at:\n",
    "https://www.datarobot.com/blog/ordinary-least-squares-in-python/"
   ]
  },
  {
   "cell_type": "code",
   "execution_count": null,
   "metadata": {
    "ExecuteTime": {
     "end_time": "2017-09-20T14:43:39.138460Z",
     "start_time": "2017-09-20T14:43:39.115956"
    },
    "button": false,
    "new_sheet": false,
    "run_control": {
     "read_only": false
    }
   },
   "outputs": [],
   "source": [
    "model = ols('sepal_length ~ Species*petal_length', df).fit()\n",
    "print(model.summary())"
   ]
  },
  {
   "cell_type": "markdown",
   "metadata": {
    "button": false,
    "new_sheet": false,
    "run_control": {
     "read_only": false
    }
   },
   "source": [
    "### What the metrics are:\n",
    "\n",
    "The left part of the first table provides basic information about the model fit:  \n",
    "\n",
    "Dep. Variable\tWhich variable is the response in the model  \n",
    "Model\tWhat model you are using in the fit  \n",
    "Method\tHow the parameters of the model were calculated  \n",
    "No. Observations\tThe number of observations (examples)  \n",
    "DF Residuals\tDegrees of freedom of the residuals. Number of observations - number of parameters  \n",
    "DF Model\tNumber of parameters in the model (not including the constant term if present)  \n",
    "\n",
    "The right part of the first table shows the goodness of fit\n",
    "Element\tDescription  \n",
    "R-squared\tThe coefficient of determination. A statistical measure of how well the regression line approximates the real data points  \n",
    "Adj. R-squared\tThe above value adjusted based on the number of observations and the degrees-of-freedom of the residuals  \n",
    "F-statistic\tA measure how significant the fit is. The mean squared error of the model divided by the mean squared error of the residuals  \n",
    "Prob (F-statistic)\tThe probability that you would get the above statistic, given the null hypothesis that they are unrelated  \n",
    "Log-likelihood\tThe log of the likelihood function.  \n",
    "AIC\tThe Akaike Information Criterion. Adjusts the log-likelihood based on the number of observations and the complexity of the model.  \n",
    "BIC\tThe Bayesian Information Criterion. Similar to the AIC, but has a higher penalty for models with more parameters.  \n",
    "\n",
    "The second table reports for each of the coefficients\n",
    "Description The name of the term in the model  \n",
    "coef\tThe estimated value of the coefficient  \n",
    "std err\tThe basic standard error of the estimate of the coefficient. More sophisticated errors are also available.  \n",
    "t\tThe t-statistic value. This is a measure of how statistically significant the coefficient is.  \n",
    "P > |t|\tP-value that the null-hypothesis that the coefficient = 0 is true. If it is less than the confidence level, often 0.05, it indicates that there is a statistically significant relationship between the term and the response.  \n",
    "[95.0% Conf. Interval]\tThe lower and upper values of the 95% confidence interval  \n",
    "\n",
    "Finally, there are several statistical tests to assess the distribution of the residuals\n",
    "Skewness\tA measure of the symmetry of the data about the mean. Normally-distributed errors should be symmetrically distributed about the mean (equal amounts above and below the line).  \n",
    "Kurtosis\tA measure of the shape of the distribution. Compares the amount of data close to the mean with those far away from the mean (in the tails).  \n",
    "Omnibus\tD'Angostino's test. It provides a combined statistical test for the presence of skewness and kurtosis.  \n",
    "Prob(Omnibus)\tThe above statistic turned into a probability  \n",
    "Jarque-Bera\tA different test of the skewness and kurtosis  \n",
    "Prob (JB)\tThe above statistic turned into a probability  \n",
    "Durbin-Watson\tA test for the presence of autocorrelation (that the errors are not independent.) Often important in time-series analysis  \n",
    "Cond. No\tA test for multicollinearity (if in a fit with multiple parameters, the parameters are related with each other).  \n"
   ]
  },
  {
   "cell_type": "code",
   "execution_count": null,
   "metadata": {
    "ExecuteTime": {
     "end_time": "2017-09-12T08:36:38.704360Z",
     "start_time": "2017-09-12T08:36:38.692958"
    },
    "button": false,
    "new_sheet": false,
    "run_control": {
     "read_only": false
    }
   },
   "outputs": [],
   "source": [
    "df.groupby('Site').mean()"
   ]
  },
  {
   "cell_type": "code",
   "execution_count": null,
   "metadata": {
    "ExecuteTime": {
     "end_time": "2017-09-12T08:37:22.372191Z",
     "start_time": "2017-09-12T08:37:22.182798"
    },
    "button": false,
    "new_sheet": false,
    "run_control": {
     "read_only": false
    }
   },
   "outputs": [],
   "source": [
    "sns.boxplot(x=\"Site\", y=\"petal_length\", data=df);"
   ]
  },
  {
   "cell_type": "markdown",
   "metadata": {
    "button": false,
    "new_sheet": false,
    "run_control": {
     "read_only": false
    }
   },
   "source": [
    "Is there a relationship between Site and Species for floral metrics?"
   ]
  },
  {
   "cell_type": "code",
   "execution_count": null,
   "metadata": {
    "ExecuteTime": {
     "end_time": "2017-09-12T08:39:22.873157Z",
     "start_time": "2017-09-12T08:39:22.849821"
    },
    "button": false,
    "new_sheet": false,
    "run_control": {
     "read_only": false
    }
   },
   "outputs": [],
   "source": [
    "model = ols('petal_length ~ Site + Species + Site*Species', df).fit()\n",
    "print(model.summary())"
   ]
  },
  {
   "cell_type": "markdown",
   "metadata": {
    "button": false,
    "new_sheet": false,
    "run_control": {
     "read_only": false
    }
   },
   "source": [
    "## Correlation heat map\n",
    "Look at the correalations of the floral metrics.  Are petal width and petal length more closely related than petal length and sepal length?"
   ]
  },
  {
   "cell_type": "code",
   "execution_count": null,
   "metadata": {
    "ExecuteTime": {
     "end_time": "2017-09-12T10:21:03.143929Z",
     "start_time": "2017-09-12T10:21:02.901104"
    },
    "button": false,
    "new_sheet": false,
    "run_control": {
     "read_only": false
    }
   },
   "outputs": [],
   "source": [
    "# calculate the correlation matrix\n",
    "corr = df.corr()\n",
    "\n",
    "# plot the heatmap\n",
    "sns.heatmap(corr, \n",
    "        xticklabels=corr.columns,\n",
    "        yticklabels=corr.columns)"
   ]
  },
  {
   "cell_type": "markdown",
   "metadata": {
    "button": false,
    "new_sheet": false,
    "run_control": {
     "read_only": false
    }
   },
   "source": [
    "Sepal width is quite independent from the other metrics"
   ]
  },
  {
   "cell_type": "markdown",
   "metadata": {
    "button": false,
    "new_sheet": false,
    "run_control": {
     "read_only": false
    }
   },
   "source": [
    "### Clustering (and some data manipulations) \n",
    "Very useful for exploring data  \n",
    "How do the species and sites cluster?\n",
    "\n",
    "Expects data in the form  \n",
    "        var1 var2 var3 var4  \n",
    "Class1  \n",
    "Class2  \n",
    "Class3  \n",
    "\n",
    "So we need to summarise the dataframe"
   ]
  },
  {
   "cell_type": "code",
   "execution_count": null,
   "metadata": {
    "ExecuteTime": {
     "end_time": "2017-09-12T10:20:56.398639Z",
     "start_time": "2017-09-12T10:20:56.385515"
    },
    "button": false,
    "new_sheet": false,
    "run_control": {
     "read_only": false
    }
   },
   "outputs": [],
   "source": [
    "df.head(2)"
   ]
  },
  {
   "cell_type": "code",
   "execution_count": null,
   "metadata": {
    "button": false,
    "new_sheet": false,
    "run_control": {
     "read_only": false
    }
   },
   "outputs": [],
   "source": [
    "We want to end up with\n",
    "                    av_sepal_length, av_sepal_width, av_petal_length, av_petal_width\n",
    "veriscolor_Field\n",
    "vericolor_Marsh\n",
    "veriscolor_Road\n",
    "virginica_Field\n",
    "virginica_Marsh\n",
    "virginica_Road\n",
    "setosa_Field\n",
    "setosa_Marsh\n",
    "setosa_Road"
   ]
  },
  {
   "cell_type": "code",
   "execution_count": null,
   "metadata": {
    "ExecuteTime": {
     "end_time": "2017-09-12T10:06:24.611360Z",
     "start_time": "2017-09-12T10:06:24.606990"
    },
    "button": false,
    "new_sheet": false,
    "run_control": {
     "read_only": false
    }
   },
   "outputs": [],
   "source": [
    "bygroup = df.groupby(['Species', 'Site'])"
   ]
  },
  {
   "cell_type": "markdown",
   "metadata": {
    "button": false,
    "new_sheet": false,
    "run_control": {
     "read_only": false
    }
   },
   "source": [
    "Check that this is what we expect it to be!"
   ]
  },
  {
   "cell_type": "code",
   "execution_count": null,
   "metadata": {
    "ExecuteTime": {
     "end_time": "2017-09-12T09:36:59.974600Z",
     "start_time": "2017-09-12T09:36:59.951006"
    },
    "button": false,
    "new_sheet": false,
    "run_control": {
     "read_only": false
    }
   },
   "outputs": [],
   "source": [
    "bygroup['petal_length'].describe()"
   ]
  },
  {
   "cell_type": "markdown",
   "metadata": {
    "button": false,
    "new_sheet": false,
    "run_control": {
     "read_only": false
    }
   },
   "source": [
    "Get the means"
   ]
  },
  {
   "cell_type": "code",
   "execution_count": null,
   "metadata": {
    "ExecuteTime": {
     "end_time": "2017-09-12T10:06:34.448858Z",
     "start_time": "2017-09-12T10:06:34.441889"
    },
    "button": false,
    "new_sheet": false,
    "run_control": {
     "read_only": false
    }
   },
   "outputs": [],
   "source": [
    "df_av = bygroup['petal_length', 'petal_width', 'sepal_width', 'sepal_width'].mean().reset_index()"
   ]
  },
  {
   "cell_type": "code",
   "execution_count": null,
   "metadata": {
    "ExecuteTime": {
     "end_time": "2017-09-12T10:06:37.405653Z",
     "start_time": "2017-09-12T10:06:37.389983"
    },
    "button": false,
    "new_sheet": false,
    "run_control": {
     "read_only": false
    }
   },
   "outputs": [],
   "source": [
    "df_av.head(2)"
   ]
  },
  {
   "cell_type": "markdown",
   "metadata": {
    "button": false,
    "new_sheet": false,
    "run_control": {
     "read_only": false
    }
   },
   "source": [
    "NOTE these are AVERAGES - have to rename the columns, then export the dataframe"
   ]
  },
  {
   "cell_type": "code",
   "execution_count": null,
   "metadata": {
    "ExecuteTime": {
     "end_time": "2017-09-12T10:06:42.712079Z",
     "start_time": "2017-09-12T10:06:42.706758"
    },
    "button": false,
    "new_sheet": false,
    "run_control": {
     "read_only": false
    }
   },
   "outputs": [],
   "source": [
    "df_av.columns = ['Species', 'Site', 'petal_length_mean', 'petal_width_mean', 'sepal_length_mean', 'sepal_width_mean']\n",
    "df_av.to_csv('Iris_average.csv', index=False)"
   ]
  },
  {
   "cell_type": "markdown",
   "metadata": {
    "button": false,
    "new_sheet": false,
    "run_control": {
     "read_only": false
    }
   },
   "source": [
    "Combine the first two columns into one"
   ]
  },
  {
   "cell_type": "code",
   "execution_count": null,
   "metadata": {
    "ExecuteTime": {
     "end_time": "2017-09-12T10:06:45.509538Z",
     "start_time": "2017-09-12T10:06:45.505183"
    },
    "button": false,
    "new_sheet": false,
    "run_control": {
     "read_only": false
    }
   },
   "outputs": [],
   "source": [
    "df_av[\"Plant\"] = df_av[\"Species\"].map(str) + \"_\" + df_av[\"Site\"]"
   ]
  },
  {
   "cell_type": "code",
   "execution_count": null,
   "metadata": {
    "button": false,
    "new_sheet": false,
    "run_control": {
     "read_only": false
    }
   },
   "outputs": [],
   "source": [
    "Drop the redundant columns, re-order and makethe first colum the index"
   ]
  },
  {
   "cell_type": "code",
   "execution_count": null,
   "metadata": {
    "ExecuteTime": {
     "end_time": "2017-09-12T10:09:24.144166Z",
     "start_time": "2017-09-12T10:09:24.072142"
    },
    "button": false,
    "new_sheet": false,
    "run_control": {
     "read_only": false
    }
   },
   "outputs": [],
   "source": [
    "df_av.drop([\"Species\",\"Site\"], 1)"
   ]
  },
  {
   "cell_type": "code",
   "execution_count": null,
   "metadata": {
    "ExecuteTime": {
     "end_time": "2017-09-12T10:09:49.708572Z",
     "start_time": "2017-09-12T10:09:49.704898"
    },
    "button": false,
    "new_sheet": false,
    "run_control": {
     "read_only": false
    }
   },
   "outputs": [],
   "source": [
    "df_av = df_av[['Plant', 'petal_length_mean', 'petal_width_mean', 'sepal_length_mean', 'sepal_width_mean']]"
   ]
  },
  {
   "cell_type": "code",
   "execution_count": null,
   "metadata": {
    "ExecuteTime": {
     "end_time": "2017-09-12T10:09:59.618788Z",
     "start_time": "2017-09-12T10:09:59.607186"
    },
    "button": false,
    "new_sheet": false,
    "run_control": {
     "read_only": false
    }
   },
   "outputs": [],
   "source": [
    "df_av.head(2)"
   ]
  },
  {
   "cell_type": "markdown",
   "metadata": {
    "button": false,
    "new_sheet": false,
    "run_control": {
     "read_only": false
    }
   },
   "source": [
    "We can illustrate this data set as a heat map (coloured by absolute value, not correlations as before):"
   ]
  },
  {
   "cell_type": "code",
   "execution_count": null,
   "metadata": {
    "ExecuteTime": {
     "end_time": "2017-09-12T10:11:03.616211Z",
     "start_time": "2017-09-12T10:11:03.612353"
    },
    "button": false,
    "new_sheet": false,
    "run_control": {
     "read_only": false
    }
   },
   "outputs": [],
   "source": [
    "df_cluster = df_av.set_index('Plant')"
   ]
  },
  {
   "cell_type": "code",
   "execution_count": null,
   "metadata": {
    "ExecuteTime": {
     "end_time": "2017-09-12T10:19:01.250605Z",
     "start_time": "2017-09-12T10:19:00.681438"
    },
    "button": false,
    "new_sheet": false,
    "run_control": {
     "read_only": false
    }
   },
   "outputs": [],
   "source": [
    "sns.heatmap(df_cluster, annot=True)"
   ]
  },
  {
   "cell_type": "code",
   "execution_count": null,
   "metadata": {
    "ExecuteTime": {
     "end_time": "2017-09-12T10:11:23.632401Z",
     "start_time": "2017-09-12T10:11:23.623103"
    },
    "button": false,
    "new_sheet": false,
    "run_control": {
     "read_only": false
    }
   },
   "outputs": [],
   "source": [
    "# generate the linkage matrix\n",
    "from scipy.cluster.hierarchy import cophenet\n",
    "from scipy.spatial.distance import pdist\n",
    "\n",
    "Z = linkage(df_cluster, 'ward')\n",
    "c, coph_dists = cophenet(Z, pdist(df_cluster))\n",
    "c"
   ]
  },
  {
   "cell_type": "code",
   "execution_count": null,
   "metadata": {
    "ExecuteTime": {
     "end_time": "2017-09-12T10:11:26.370058Z",
     "start_time": "2017-09-12T10:11:25.769001"
    },
    "button": false,
    "new_sheet": false,
    "run_control": {
     "read_only": false
    }
   },
   "outputs": [],
   "source": [
    "# calculate full dendrogram\n",
    "plt.figure(figsize=(25, 10))\n",
    "plt.title('Hierarchical Clustering Dendrogram of accessions by sequence distance')\n",
    "plt.xlabel('Accession')\n",
    "plt.ylabel('100*(average(% ID/length of match)/bp in assembly)')\n",
    "dendrogram(\n",
    "    Z,\n",
    "    labels=(df_cluster.index),\n",
    "    leaf_rotation=90.,  # rotates the x axis labels\n",
    "    leaf_font_size=14.,  # font size for the x axis labels\n",
    ")\n",
    "plt.show()"
   ]
  },
  {
   "cell_type": "markdown",
   "metadata": {
    "button": false,
    "new_sheet": false,
    "run_control": {
     "read_only": false
    }
   },
   "source": [
    "Shows very little varation between sites (short branches),  \n",
    "no consistent realtionship between sites within a species \n",
    "and a closer realtionship between veriscolor and virginica than with setosa"
   ]
  },
  {
   "cell_type": "markdown",
   "metadata": {
    "button": false,
    "new_sheet": false,
    "run_control": {
     "read_only": false
    }
   },
   "source": [
    "   Read the docs:  \n",
    "   https://pandas.pydata.org/pandas-docs/stable/10min.html\n",
    "   \n",
    "   DataQuest Tutorial on Data Analysis:   \n",
    "   https://www.dataquest.io/blog/pandas-python-tutorial/\n",
    "    \n",
    "   Seaborn:  \n",
    "   https://seaborn.pydata.org/\n",
    "    "
   ]
  }
 ],
 "metadata": {
  "anaconda-cloud": {},
  "kernelspec": {
   "display_name": "Python 3",
   "language": "python",
   "name": "python3"
  },
  "language_info": {
   "codemirror_mode": {
    "name": "ipython",
    "version": 3
   },
   "file_extension": ".py",
   "mimetype": "text/x-python",
   "name": "python",
   "nbconvert_exporter": "python",
   "pygments_lexer": "ipython3",
   "version": "3.6.4"
  }
 },
 "nbformat": 4,
 "nbformat_minor": 1
}
